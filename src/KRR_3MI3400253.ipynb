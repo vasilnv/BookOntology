{
 "cells": [
  {
   "cell_type": "code",
   "execution_count": 1,
   "id": "c69854fd",
   "metadata": {},
   "outputs": [
    {
     "name": "stderr",
     "output_type": "stream",
     "text": [
      "* Owlready2 * Warning: optimized Cython parser module 'owlready2_optimized' is not available, defaulting to slower Python implementation\n"
     ]
    }
   ],
   "source": [
    "from owlready2 import *"
   ]
  },
  {
   "cell_type": "code",
   "execution_count": 2,
   "id": "5086ad2f",
   "metadata": {},
   "outputs": [],
   "source": [
    "onto = get_ontology(\"http://test.org/onto.owl\")"
   ]
  },
  {
   "cell_type": "markdown",
   "id": "e3aec70e",
   "metadata": {},
   "source": [
    "# Classes"
   ]
  },
  {
   "cell_type": "code",
   "execution_count": 3,
   "id": "6db7b74d",
   "metadata": {},
   "outputs": [],
   "source": [
    "with onto:\n",
    "    class Person(Thing):\n",
    "        pass\n",
    "    class Book(Thing):\n",
    "        pass\n",
    "    class Location(Thing):\n",
    "        pass\n",
    "    class Genre(Thing):\n",
    "        pass\n",
    "    class Review(Thing):\n",
    "        pass\n",
    "    class PublishingHouse(Thing):\n",
    "        pass\n",
    "    class Author(Person):\n",
    "        pass\n",
    "    class Reviewer(Person):\n",
    "        pass\n",
    "    class City(Location):\n",
    "        pass\n",
    "    class Country(Location):\n",
    "        pass\n",
    "    class Fiction(Genre):\n",
    "        pass\n",
    "    class NonFiction(Genre):\n",
    "        pass\n",
    "    class Mystery(Fiction):\n",
    "        pass   "
   ]
  },
  {
   "cell_type": "markdown",
   "id": "061c7c02",
   "metadata": {},
   "source": [
    "# Properties"
   ]
  },
  {
   "cell_type": "code",
   "execution_count": 5,
   "id": "92ad4bd7",
   "metadata": {},
   "outputs": [],
   "source": [
    "with onto:\n",
    "    class isFrom(Person >> Location):\n",
    "        pass\n",
    "\n",
    "    class hasWritten(Author >> Book):\n",
    "        pass\n",
    "    \n",
    "    class isWrittenBy(Book >> Author):\n",
    "        inverse_property = hasWritten\n",
    "        pass\n",
    "    \n",
    "    class hasWrittenReview(Reviewer >> Review, InverseFunctionalProperty):\n",
    "        pass\n",
    "    \n",
    "    class reviewIsWrittenBy(Review >> Reviewer, FunctionalProperty):\n",
    "        inverse_property = hasWrittenReview\n",
    "        pass\n",
    "    \n",
    "    class publishedBy(Book >> PublishingHouse):\n",
    "        pass\n",
    "    \n",
    "    class hasReview(Book >> Review):\n",
    "        pass\n",
    "    \n",
    "    class hasRating(Review >> int, FunctionalProperty):\n",
    "        pass\n",
    "    \n",
    "    class hasGenre(Book >> Genre):\n",
    "        pass\n",
    "    \n",
    "    class isAfter(Book >> Book, TransitiveProperty): \n",
    "        maxCardinality = 1\n",
    "        pass\n",
    "    \n",
    "    class hasName(Person >> str, FunctionalProperty):\n",
    "        pass\n",
    "    \n",
    "    class birthDate(Person >> str, FunctionalProperty):\n",
    "        pass\n",
    "    \n",
    "    class hasTitle(Book >> str, FunctionalProperty):\n",
    "        pass\n",
    "    \n",
    "    class numberOfPages(Book >> int, FunctionalProperty):\n",
    "        pass\n",
    "    \n",
    "    class description(Review >> str, FunctionalProperty):\n",
    "        pass"
   ]
  },
  {
   "cell_type": "markdown",
   "id": "fa0a7d8e",
   "metadata": {},
   "source": [
    "## More classes"
   ]
  },
  {
   "cell_type": "code",
   "execution_count": 6,
   "id": "56c82e74",
   "metadata": {},
   "outputs": [],
   "source": [
    "with onto:\n",
    "    class SingleAuthorBook(Book):\n",
    "        equivalent_to = [isWrittenBy.exactly(1, Author)]\n",
    "        \n",
    "    class CoAuthorBook(Book):\n",
    "        equivalent_to = [isWrittenBy.min(2, Author)]\n",
    "    \n",
    "    class AtLeastFourAuthorsBook(Book):\n",
    "        equivalent_to = [isWrittenBy.min(4, Author)]\n",
    "        \n",
    "    class ReviewedBook(Book):\n",
    "        equivalent_to = [hasReview.some(Review)]\n",
    "        \n",
    "    class PopularBook(Book):\n",
    "        equivalent_to = [hasReview.min(2, Review)]\n",
    "        "
   ]
  },
  {
   "cell_type": "markdown",
   "id": "81c8d949",
   "metadata": {},
   "source": [
    "# Instances"
   ]
  },
  {
   "cell_type": "markdown",
   "id": "80704a8f",
   "metadata": {},
   "source": [
    "### Kite runner book"
   ]
  },
  {
   "cell_type": "code",
   "execution_count": 7,
   "id": "e21c1a06",
   "metadata": {},
   "outputs": [],
   "source": [
    "Kabul = City()\n",
    "Afghanistan = Country()\n",
    "\n",
    "KhaledHosseini = Author(hasName = \"Khaled Hosseini\", \n",
    "                        birthDate = \"04-03-1965\", \n",
    "                        isFrom = [Kabul, Afghanistan])\n",
    "\n",
    "LiteraryFictionGenre = Fiction()\n",
    "\n",
    "ObsidianPublishingHouse = PublishingHouse()\n",
    "\n",
    "LissaTroy = Reviewer(hasName=\"Lissa Throy\", \n",
    "                     birthDate=\"09-08-1995\")\n",
    "\n",
    "ReviewKiteRunnerBookLissa = Review(reviewIsWrittenBy=LissaTroy, \n",
    "                                   hasRating=5, \n",
    "                                   description=\"WOW! This book was beautiful, exquisite. This book follows the story of a rich boy named Amir who grows up playing with his buddy Hassan who is the son of his father's servant. This story is one of friendship, betrayal, love, redemption, and family. There were so many different twists in this book that I never saw coming. It was also so real that I had to Google, \\\"Is The Kite Runner based on a true story?\\\" If you are wondering, no, it is not.Honestly, this book was so moving and beautiful that I was crying at multiple spots in the book. It would be hard to convey how much I love this book. Even typing this review, I am tearing up. Love in real life is not a Hallmark movie or a Lifetime show. Even people we love let us down and disappoint from time to time. The world doesn't always give us an easy hand in life. However, this author perfectly depicted imperfect characters who were doing their best.\")\n",
    "\n",
    "KiteRunnerBook = Book(hasTitle=\"The Kite Runner\", \n",
    "                      hasPages=352, \n",
    "                      isWrittenBy=[KhaledHosseini], \n",
    "                      hasGenre=[LiteraryFictionGenre], \n",
    "                      hasReview=[ReviewKiteRunnerBookLissa],\n",
    "                      publishedBy=[ObsidianPublishingHouse])\n",
    "\n"
   ]
  },
  {
   "cell_type": "markdown",
   "id": "3ddae1b0",
   "metadata": {},
   "source": [
    "### Still Life Book"
   ]
  },
  {
   "cell_type": "code",
   "execution_count": 8,
   "id": "1bb089fe",
   "metadata": {},
   "outputs": [],
   "source": [
    "Toronto = City()\n",
    "Canada = Country()\n",
    "\n",
    "LouisePenny = Author(hasName = \"Louise Penny\", \n",
    "                        birthDate = \"01-07-1958\", \n",
    "                        isFrom = [Toronto, Canada])\n",
    "\n",
    "DetectiveFictionGenre = Fiction()\n",
    "MysteryThrillerGenre = Fiction()\n",
    "Crime = Genre()\n",
    "\n",
    "SoftPressPublishingHouse = PublishingHouse()\n",
    "\n",
    "PhrynneAngela = Reviewer(hasName=\"Phrynne Angela\", \n",
    "                     birthDate=\"11-12-1979\")\n",
    "\n",
    "ReviewStillLifeBookPhrynne = Review(reviewIsWrittenBy=PhrynneAngela, \n",
    "                                   hasRating=4, \n",
    "                                   description=\"This was a pleasure to read. Imagine a detective who is happily married and is not an alcoholic! Discovering Chief Inspector Armand Gamache is a pleasure in itself!\\nI really enjoyed the setting, a small town in Quebec, and I became quite attached to several of the characters. They were quirky and a couple verged on going over the top but overall the author held it together.An easy, comfortable read with just a bit of bite to it to keep it interesting. Consider me hooked on the series:)\")\n",
    "\n",
    "StillLifeBook = Book(hasTitle=\"Still Life\", \n",
    "                      hasPages=342, \n",
    "                      isWrittenBy=[LouisePenny], \n",
    "                      hasGenre=[DetectiveFictionGenre], \n",
    "                      hasReview=[ReviewStillLifeBookPhrynne],\n",
    "                      publishedBy=[SoftPressPublishingHouse])\n",
    "\n"
   ]
  },
  {
   "cell_type": "markdown",
   "id": "6cdea831",
   "metadata": {},
   "source": [
    "### A Fatal Grace Book"
   ]
  },
  {
   "cell_type": "code",
   "execution_count": 9,
   "id": "ff74ab05",
   "metadata": {},
   "outputs": [],
   "source": [
    "FergusNeil = Reviewer(hasName=\"Fergus Neil\", \n",
    "                     birthDate=\"11-12-1967\")\n",
    "\n",
    "ReviewAFatalGraceBookFergusNeil = Review(reviewIsWrittenBy=FergusNeil, \n",
    "                                   hasRating=5, \n",
    "                                   description=\"Louise Penny is a Supernova in the Canadian literary firmament. And her warmth and human compassion is especially endearing, as is her supercharged inspiration in concocting such an endlessly labyrinthine structure for her book.Her writing is excellent. And enchanting. I loved it.\")\n",
    "\n",
    "AFatalGraceBook = Book(hasTitle=\"A Fatal Grace\", \n",
    "                      hasPages=323, \n",
    "                      isWrittenBy=[LouisePenny], \n",
    "                      hasGenre=[MysteryThrillerGenre, DetectiveFictionGenre], \n",
    "                      hasReview=[ReviewAFatalGraceBookFergusNeil],\n",
    "                      publishedBy=[SoftPressPublishingHouse],\n",
    "                      isAfter=[StillLifeBook])"
   ]
  },
  {
   "cell_type": "markdown",
   "id": "825df2ba",
   "metadata": {},
   "source": [
    "### The Cruelest Month Book"
   ]
  },
  {
   "cell_type": "code",
   "execution_count": 10,
   "id": "076d1471",
   "metadata": {},
   "outputs": [],
   "source": [
    "ReviewTheCruelestMonthPhrynneAngela = Review(reviewIsWrittenBy=PhrynneAngela, \n",
    "                                   hasRating=5, \n",
    "                                   description=\"Inspector Gamache is back in Three Pines investigating yet another suspicious death. Is it possible to die of fright? That is the determination of many in the small town, yet Gamache wants to look deeper. I really liked number two in the series yet this continuation lacked the same punch. It’s more character driven with the plot revolving around the central players. Even with my familiarity, I was less interested in the asides and wanted more mystery and action.\")\n",
    "\n",
    "\n",
    "TheCruelestMonthBook = Book(hasTitle=\"The Cruelest Month\", \n",
    "                      hasPages=310, \n",
    "                      isWrittenBy=[LouisePenny], \n",
    "                      hasGenre=[MysteryThrillerGenre, DetectiveFictionGenre], \n",
    "                      hasReview=[ReviewTheCruelestMonthPhrynneAngela],\n",
    "                      publishedBy=[SoftPressPublishingHouse],\n",
    "                      isAfter=[AFatalGraceBook])"
   ]
  },
  {
   "cell_type": "markdown",
   "id": "8c1b07d1",
   "metadata": {},
   "source": [
    "### A Rule Against Murder"
   ]
  },
  {
   "cell_type": "code",
   "execution_count": 11,
   "id": "315b0c0c",
   "metadata": {},
   "outputs": [],
   "source": [
    "ARuleAgainstMurderBook = Book(hasTitle=\"A Rule Against Murder\", \n",
    "                      hasPages=323, \n",
    "                      isWrittenBy=[LouisePenny], \n",
    "                      hasGenre=[Crime], \n",
    "                      publishedBy=[SoftPressPublishingHouse],\n",
    "                      isAfter=[TheCruelestMonthBook])"
   ]
  },
  {
   "cell_type": "markdown",
   "id": "b3231a00",
   "metadata": {},
   "source": [
    "### Christmas Mysteries"
   ]
  },
  {
   "cell_type": "code",
   "execution_count": 12,
   "id": "5a7cd7ee",
   "metadata": {},
   "outputs": [],
   "source": [
    "Devon = City()\n",
    "Crowborough = City()\n",
    "England = Country()\n",
    "\n",
    "AgathaChristie = Author(hasName = \"Agatha Christie\", \n",
    "                        birthDate = \"15-09-1890\", \n",
    "                        isFrom = [Devon, England])\n",
    "\n",
    "ArthurConanDoyle = Author(hasName = \"Arthur Conan Doyle\", \n",
    "                        birthDate = \"22-05-1859\", \n",
    "                        isFrom = [Crowborough, England])\n",
    "\n",
    "ChristmasMysteriesBook = Book(hasTitle=\"Christmas Mysteries\", \n",
    "                      hasPages=296, \n",
    "                      isWrittenBy=[AgathaChristie, ArthurConanDoyle], \n",
    "                      hasGenre=[MysteryThrillerGenre, DetectiveFictionGenre],\n",
    "                      publishedBy=[SoftPressPublishingHouse])"
   ]
  },
  {
   "cell_type": "markdown",
   "id": "743e0b5f",
   "metadata": {},
   "source": [
    "### New Christmas Mysteries"
   ]
  },
  {
   "cell_type": "code",
   "execution_count": 13,
   "id": "3d1d89de",
   "metadata": {},
   "outputs": [],
   "source": [
    "Dorchester = City()\n",
    "ThomasHardy = Author(hasName = \"Thomas Hardy\", \n",
    "                        birthDate = \"02-06-1840\", \n",
    "                        isFrom = [Dorchester, England])\n",
    "\n",
    "NewChristmasMysteriesBook = Book(hasTitle=\"New Christmas Mysteries\", \n",
    "                      hasPages=296, \n",
    "                      isWrittenBy=[AgathaChristie, ArthurConanDoyle, LouisePenny, ThomasHardy], \n",
    "                      hasGenre=[MysteryThrillerGenre, DetectiveFictionGenre],\n",
    "                      publishedBy=[SoftPressPublishingHouse], \n",
    "                      isAfter=[ChristmasMysteriesBook])"
   ]
  },
  {
   "cell_type": "markdown",
   "id": "981498d7",
   "metadata": {},
   "source": [
    "### More classes for the inference examples"
   ]
  },
  {
   "cell_type": "code",
   "execution_count": 14,
   "id": "1bb92c19",
   "metadata": {},
   "outputs": [],
   "source": [
    "with onto:\n",
    "    class SequenceBook(Book):\n",
    "        equivalent_to = [Book & isAfter.some(Book)]\n",
    "    \n",
    "    class FictionBook(Book):\n",
    "        equivalent_to = [hasGenre.min(1, Fiction)]      "
   ]
  },
  {
   "cell_type": "markdown",
   "id": "a1678290",
   "metadata": {},
   "source": [
    "### Classification"
   ]
  },
  {
   "cell_type": "code",
   "execution_count": 15,
   "id": "3eee465b",
   "metadata": {},
   "outputs": [],
   "source": [
    "with onto:\n",
    "    class ReviewedSequenceBook(Book):\n",
    "        equivalent_to = [hasReview.some(Review) & \n",
    "                        isAfter.some(Book)]\n",
    "    \n",
    "    class CoAuthoredSequenceBook(Book):\n",
    "        equivalent_to = [isAfter.some(Book) & \n",
    "                        isWrittenBy.min(2, Author)]\n",
    "        "
   ]
  },
  {
   "cell_type": "code",
   "execution_count": 20,
   "id": "4904642e",
   "metadata": {},
   "outputs": [
    {
     "name": "stdout",
     "output_type": "stream",
     "text": [
      "[onto.SequenceBook, onto.ReviewedBook]\n",
      "[onto.CoAuthorBook, onto.SequenceBook]\n"
     ]
    }
   ],
   "source": [
    "print(ReviewedSequenceBook.is_a)\n",
    "print(CoAuthoredSequenceBook.is_a)"
   ]
  },
  {
   "cell_type": "markdown",
   "id": "c97327b2",
   "metadata": {},
   "source": [
    "### Subsumption Examples"
   ]
  },
  {
   "cell_type": "code",
   "execution_count": 21,
   "id": "60ab2993",
   "metadata": {},
   "outputs": [
    {
     "name": "stdout",
     "output_type": "stream",
     "text": [
      "[onto.CoAuthorBook]\n",
      "[onto.ReviewedBook]\n"
     ]
    }
   ],
   "source": [
    "print(AtLeastFourAuthorsBook.is_a) \n",
    "print(PopularBook.is_a)"
   ]
  },
  {
   "cell_type": "markdown",
   "id": "bf1767d7",
   "metadata": {},
   "source": [
    "### Inference examples"
   ]
  },
  {
   "cell_type": "code",
   "execution_count": 22,
   "id": "584ec3bc",
   "metadata": {},
   "outputs": [
    {
     "name": "stdout",
     "output_type": "stream",
     "text": [
      "[onto.SequenceBook]\n",
      "[onto.ReviewedSequenceBook, onto.FictionBook]\n",
      "[onto.FictionBook, onto.AtLeastFourAuthorsBook, onto.CoAuthoredSequenceBook]\n"
     ]
    }
   ],
   "source": [
    "print(ARuleAgainstMurderBook.is_a) # ARuleAgainstMurderBook from Book becomes SequenceBook \n",
    "print(TheCruelestMonthBook.is_a) # TheCruelestMonthBook from Book becomes Reviewed Book, SequenceBook\n",
    "print(NewChristmasMysteriesBook.is_a) #NewChristmasMysteriesBook from Book becomes FictionBook, AtLeastFourAuthorsBook, CoAuthoredSequenceBook"
   ]
  },
  {
   "cell_type": "code",
   "execution_count": 19,
   "id": "a50f7fc2",
   "metadata": {
    "scrolled": true
   },
   "outputs": [
    {
     "name": "stderr",
     "output_type": "stream",
     "text": [
      "* Owlready2 * Running Pellet...\n",
      "    java -Xmx2000M -cp /home/vasil/.local/lib/python3.8/site-packages/owlready2/pellet/jena-core-2.10.0.jar:/home/vasil/.local/lib/python3.8/site-packages/owlready2/pellet/slf4j-api-1.6.4.jar:/home/vasil/.local/lib/python3.8/site-packages/owlready2/pellet/xml-apis-1.4.01.jar:/home/vasil/.local/lib/python3.8/site-packages/owlready2/pellet/aterm-java-1.6.jar:/home/vasil/.local/lib/python3.8/site-packages/owlready2/pellet/owlapi-distribution-3.4.3-bin.jar:/home/vasil/.local/lib/python3.8/site-packages/owlready2/pellet/pellet-2.3.1.jar:/home/vasil/.local/lib/python3.8/site-packages/owlready2/pellet/jcl-over-slf4j-1.6.4.jar:/home/vasil/.local/lib/python3.8/site-packages/owlready2/pellet/jena-iri-0.9.5.jar:/home/vasil/.local/lib/python3.8/site-packages/owlready2/pellet/log4j-1.2.16.jar:/home/vasil/.local/lib/python3.8/site-packages/owlready2/pellet/commons-codec-1.6.jar:/home/vasil/.local/lib/python3.8/site-packages/owlready2/pellet/httpclient-4.2.3.jar:/home/vasil/.local/lib/python3.8/site-packages/owlready2/pellet/antlr-runtime-3.2.jar:/home/vasil/.local/lib/python3.8/site-packages/owlready2/pellet/jgrapht-jdk1.5.jar:/home/vasil/.local/lib/python3.8/site-packages/owlready2/pellet/httpcore-4.2.2.jar:/home/vasil/.local/lib/python3.8/site-packages/owlready2/pellet/jena-arq-2.10.0.jar:/home/vasil/.local/lib/python3.8/site-packages/owlready2/pellet/xercesImpl-2.10.0.jar:/home/vasil/.local/lib/python3.8/site-packages/owlready2/pellet/antlr-3.2.jar:/home/vasil/.local/lib/python3.8/site-packages/owlready2/pellet/slf4j-log4j12-1.6.4.jar:/home/vasil/.local/lib/python3.8/site-packages/owlready2/pellet/jena-tdb-0.10.0.jar pellet.Pellet realize --loader Jena --input-format N-Triples --infer-prop-values --infer-data-prop-values --ignore-imports /tmp/tmpzw489y08\n"
     ]
    },
    {
     "name": "stdout",
     "output_type": "stream",
     "text": [
      "* Owlready * Adding relation onto.book4 isAfter onto.book2\n",
      "* Owlready * Adding relation onto.book5 isAfter onto.book2\n",
      "* Owlready * Adding relation onto.book5 isAfter onto.book3\n",
      "* Owlready * Adding relation onto.review4 description Inspector Gamache is back in Three Pines investigating yet another suspicious death. Is it possible to die of fright? That is the determination of many in the small town, yet Gamache wants to look deeper. I really liked number two in the series yet this continuation lacked the same punch. It\\°31s more character driven with the plot revolving around the central players. Even with my familiarity, I was less interested in the asides and wanted more mystery and action.\n",
      "* Owlready * Adding relation onto.review2 description This was a pleasure to read. Imagine a detective who is happily married and is not an alcoholic! Discovering Chief Inspector Armand Gamache is a pleasure in itself!\\nI really enjoyed the setting, a small town in Quebec, and I became quite attached to several of the characters. They were quirky and a couple verged on going over the top but overall the author held it together.An easy, comfortable read with just a bit of bite to it to keep it interesting. Consider me hooked on the series:)\n",
      "* Owlready * Adding relation onto.review1 description WOW! This book was beautiful, exquisite. This book follows the story of a rich boy named Amir who grows up playing with his buddy Hassan who is the son of his father\\'s servant. This story is one of friendship, betrayal, love, redemption, and family. There were so many different twists in this book that I never saw coming. It was also so real that I had to Google, \\\"Is The Kite Runner based on a true story?\\\" If you are wondering, no, it is not.Honestly, this book was so moving and beautiful that I was crying at multiple spots in the book. It would be hard to convey how much I love this book. Even typing this review, I am tearing up. Love in real life is not a Hallmark movie or a Lifetime show. Even people we love let us down and disappoint from time to time. The world doesn\\'t always give us an easy hand in life. However, this author perfectly depicted imperfect characters who were doing their best.\n"
     ]
    },
    {
     "name": "stderr",
     "output_type": "stream",
     "text": [
      "* Owlready2 * Pellet took 0.9717936515808105 seconds\n",
      "* Owlready * Reparenting onto.book6: {onto.Book} => {onto.CoAuthorBook, onto.FictionBook}\n",
      "* Owlready * Reparenting onto.AtLeastFourAuthorsBook: {onto.Book} => {onto.CoAuthorBook}\n",
      "* Owlready * Reparenting onto.book7: {onto.Book} => {onto.AtLeastFourAuthorsBook, onto.FictionBook, onto.CoAuthoredSequenceBook}\n",
      "* Owlready * Reparenting onto.CoAuthoredSequenceBook: {onto.Book} => {onto.CoAuthorBook, onto.SequenceBook}\n",
      "* Owlready * Reparenting onto.book4: {onto.Book} => {onto.ReviewedSequenceBook, onto.FictionBook}\n",
      "* Owlready * Reparenting onto.book2: {onto.Book} => {onto.ReviewedBook, onto.FictionBook}\n",
      "* Owlready * Reparenting onto.book1: {onto.Book} => {onto.ReviewedBook, onto.FictionBook}\n",
      "* Owlready * Reparenting onto.book3: {onto.Book} => {onto.ReviewedSequenceBook, onto.FictionBook}\n",
      "* Owlready * Reparenting onto.PopularBook: {onto.Book} => {onto.ReviewedBook}\n",
      "* Owlready * Reparenting onto.ReviewedSequenceBook: {onto.Book} => {onto.SequenceBook, onto.ReviewedBook}\n",
      "* Owlready * Reparenting onto.book5: {onto.Book} => {onto.SequenceBook}\n",
      "* Owlready * (NB: only changes on entities loaded in Python are shown, other changes are done but not listed)\n"
     ]
    }
   ],
   "source": [
    "def reasoner():\n",
    "    with onto:\n",
    "        sync_reasoner_pellet(infer_property_values = True, infer_data_property_values = True)\n",
    "\n",
    "reasoner()"
   ]
  },
  {
   "cell_type": "code",
   "execution_count": 23,
   "id": "c91969c7",
   "metadata": {},
   "outputs": [],
   "source": [
    "onto.save('./book_ontology.owl')"
   ]
  }
 ],
 "metadata": {
  "kernelspec": {
   "display_name": "Python 3 (ipykernel)",
   "language": "python",
   "name": "python3"
  },
  "language_info": {
   "codemirror_mode": {
    "name": "ipython",
    "version": 3
   },
   "file_extension": ".py",
   "mimetype": "text/x-python",
   "name": "python",
   "nbconvert_exporter": "python",
   "pygments_lexer": "ipython3",
   "version": "3.8.10"
  }
 },
 "nbformat": 4,
 "nbformat_minor": 5
}
